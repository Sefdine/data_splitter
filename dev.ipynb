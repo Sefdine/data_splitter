{
 "cells": [
  {
   "cell_type": "code",
   "execution_count": 71,
   "metadata": {},
   "outputs": [],
   "source": [
    "# Import necessary packages\n",
    "import pandas as pd\n",
    "\n",
    "# Load the data\n",
    "input_csv_file = input('Enter the name of the csv file : ')\n",
    "df = pd.read_csv(input_csv_file, encoding=\"ISO-8859-1\")"
   ]
  },
  {
   "cell_type": "code",
   "execution_count": 3,
   "metadata": {},
   "outputs": [
    {
     "data": {
      "text/plain": [
       "(9800, 18)"
      ]
     },
     "execution_count": 3,
     "metadata": {},
     "output_type": "execute_result"
    }
   ],
   "source": [
    "df.shape\n",
    "name = 'superstore_final_dataset'"
   ]
  },
  {
   "cell_type": "code",
   "execution_count": 87,
   "metadata": {},
   "outputs": [],
   "source": [
    "def is_not_number(value):\n",
    "    try:\n",
    "        float_value = float(value)\n",
    "        return not isinstance(float_value, (int, float))\n",
    "    except ValueError:\n",
    "        return True"
   ]
  },
  {
   "cell_type": "code",
   "execution_count": 90,
   "metadata": {},
   "outputs": [],
   "source": [
    "# Randomly shuffle the rows in the dataframe \n",
    "shuffled_df = df.sample(frac=1, random_state=42).reset_index(drop=True)\n",
    "\n",
    "# Number of lines for json\n",
    "json_percent = (input('Enter the JSON percentage : '))\n",
    "json_percent = 30 if is_not_number(json_percent) else json_percent\n",
    "line_json = int((shuffled_df.shape[0] * json_percent) / 100)\n",
    "\n",
    "# Number of lines for csv\n",
    "csv_percent = (input('Enter the CSV percentage : '))\n",
    "csv_percent = 40 if is_not_number(csv_percent) else csv_percent\n",
    "line_csv = int((shuffled_df.shape[0] * csv_percent) / 100)\n",
    "\n",
    "# Number of lines for database\n",
    "db_percent = (input('Enter the database percentage : '))\n",
    "db_percent = 30 if is_not_number(db_percent) else db_percent\n",
    "line_db = int((shuffled_df.shape[0] * db_percent) / 100)"
   ]
  },
  {
   "cell_type": "markdown",
   "metadata": {},
   "source": [
    "### Json "
   ]
  },
  {
   "cell_type": "code",
   "execution_count": 31,
   "metadata": {},
   "outputs": [],
   "source": [
    "# Take 30% to json\n",
    "json_df = shuffled_df[:line_json]\n",
    "\n",
    "# Delete the json df from the shuffled\n",
    "shuffled_df.drop(json_df.index, axis='rows', inplace=True)\n",
    "\n",
    "# Create json file\n",
    "json_df.reset_index(drop=True).to_json('json_file.json')"
   ]
  },
  {
   "cell_type": "code",
   "execution_count": 32,
   "metadata": {},
   "outputs": [
    {
     "data": {
      "text/plain": [
       "(6860, 18)"
      ]
     },
     "execution_count": 32,
     "metadata": {},
     "output_type": "execute_result"
    }
   ],
   "source": [
    "shuffled_df.shape"
   ]
  },
  {
   "cell_type": "code",
   "execution_count": 33,
   "metadata": {},
   "outputs": [
    {
     "data": {
      "text/plain": [
       "(2940, 18)"
      ]
     },
     "execution_count": 33,
     "metadata": {},
     "output_type": "execute_result"
    }
   ],
   "source": [
    "json_df.shape"
   ]
  },
  {
   "cell_type": "markdown",
   "metadata": {},
   "source": [
    "### CSV"
   ]
  },
  {
   "cell_type": "code",
   "execution_count": 34,
   "metadata": {},
   "outputs": [],
   "source": [
    "# 40% for CSV\n",
    "csv_df = shuffled_df[:line_csv]\n",
    "\n",
    "# Delete the csv df to the shuffle\n",
    "shuffled_df.drop(csv_df.index, axis='rows', inplace=True)\n",
    "\n",
    "# Create the csv file\n",
    "csv_df.reset_index(drop=True).to_csv('csv_file.csv', index=False, header=False)"
   ]
  },
  {
   "cell_type": "code",
   "execution_count": 35,
   "metadata": {},
   "outputs": [
    {
     "data": {
      "text/plain": [
       "(2940, 18)"
      ]
     },
     "execution_count": 35,
     "metadata": {},
     "output_type": "execute_result"
    }
   ],
   "source": [
    "shuffled_df.shape"
   ]
  },
  {
   "cell_type": "code",
   "execution_count": 36,
   "metadata": {},
   "outputs": [
    {
     "data": {
      "text/plain": [
       "(3920, 18)"
      ]
     },
     "execution_count": 36,
     "metadata": {},
     "output_type": "execute_result"
    }
   ],
   "source": [
    "csv_df.shape"
   ]
  },
  {
   "cell_type": "markdown",
   "metadata": {},
   "source": [
    "### Database"
   ]
  },
  {
   "cell_type": "code",
   "execution_count": 30,
   "metadata": {},
   "outputs": [
    {
     "data": {
      "text/plain": [
       "2940.0"
      ]
     },
     "execution_count": 30,
     "metadata": {},
     "output_type": "execute_result"
    }
   ],
   "source": [
    "# 30% for DB\n",
    "db_df = shuffled_df[:line_db]\n",
    "\n",
    "# Delete the csv df to the shuffle\n",
    "shuffled_df.drop(db_df.index, axis='rows', inplace=True)"
   ]
  },
  {
   "cell_type": "code",
   "execution_count": 68,
   "metadata": {},
   "outputs": [],
   "source": [
    "# Import SQL Alchemy\n",
    "from sqlalchemy import create_engine, Column, Integer, String, Text, Boolean, Float, Date, text, inspect, UniqueConstraint\n",
    "from sqlalchemy.orm import sessionmaker, declarative_base\n",
    "\n",
    "# Construct the connection string\n",
    "driver = 'ODBC+Driver+18+for+SQL+Server'\n",
    "server_address = 'localhost'\n",
    "database_name = 'master' \n",
    "username = 'SA' \n",
    "password = 'YourPassword123'  \n",
    "\n",
    "# Connection string for master db\n",
    "master_connection_string = f'mssql+pyodbc://{username}:{password}@{server_address}/{database_name}?driver={driver}&Encrypt=No'\n",
    "\n",
    "# Engine for master\n",
    "master_engine = create_engine(master_connection_string)"
   ]
  },
  {
   "cell_type": "code",
   "execution_count": 49,
   "metadata": {},
   "outputs": [],
   "source": [
    "# Create class name\n",
    "def class_name(filename):\n",
    "    filename = str.replace(filename, '.csv', '')\n",
    "    filename = str.replace(filename, '_', ' ')\n",
    "    filename = str.replace(filename, '-', ' ')\n",
    "\n",
    "    filename = str.title(filename)\n",
    "    filename = str.replace(filename, ' ', '')\n",
    "    return filename"
   ]
  },
  {
   "cell_type": "code",
   "execution_count": null,
   "metadata": {},
   "outputs": [],
   "source": [
    "# Transform date type\n",
    "db_df['Order_Date'] = pd.to_datetime(db_df['Order_Date'])\n",
    "db_df['Ship_Date'] = pd.to_datetime(db_df['Ship_Date'])"
   ]
  },
  {
   "cell_type": "code",
   "execution_count": 39,
   "metadata": {},
   "outputs": [],
   "source": [
    "# Create master session\n",
    "MasterSession = sessionmaker(bind=master_engine)\n",
    "master_session = MasterSession()\n",
    "\n",
    "# Retrieve existing databases\n",
    "get_db_query = 'name FROM sys.databases;'\n",
    "\n",
    "result = master_session.query(text(get_db_query)).all()\n",
    "\n",
    "# Get user database\n",
    "user_db = input('Enter the database name : ')\n",
    "\n",
    "table_exist = any(row[0] == user_db for row in result)\n",
    "\n",
    "if not table_exist:\n",
    "    print('Your table database doesn\\'t exist. Do you want to create it ?')\n",
    "    create_db_answer = input('Enter 1 for yes 0 for no : ')\n",
    "    while(create_db_answer != '1' and create_db_answer != '0'):\n",
    "        create_db_answer = input('Enter 1 for yes 0 for no : ')\n",
    "    if create_db_answer == '1':\n",
    "        print('Creation of database ',user_db)\n",
    "        master_session.execute(f'CREATE DATABASE {user_db}')\n",
    "else:\n",
    "    master_session.close()\n",
    "    master_engine.dispose()\n",
    "    # Connection string for user_db db\n",
    "    user_db_connection_string = f'mssql+pyodbc://{username}:{password}@{server_address}/{user_db}?driver={driver}&Encrypt=No'\n",
    "    user_engine = create_engine(user_db_connection_string)\n",
    "\n",
    "    print('Connection to ',user_db,'database passed successfully')\n",
    "    print(' ---------- Table creation ---------')\n",
    "\n",
    "    # Create a declarative base\n",
    "    Base = declarative_base()\n",
    "\n",
    "    # Create table\n",
    "    class_name = class_name(input_csv_file)\n",
    "    class class_name:\n",
    "        __tablename__ = class_name\n",
    "\n",
    "        # Columns\n",
    "        id = Column(Integer, primary_key=True, autoincrement=True)\n",
    "        row_id = Column(Integer, nullable=False)\n",
    "        order_id = Column(String(), nullable=False)\n",
    "        order_date = Column(Date, nullable=False)\n",
    "        ship_mode = Column(String(), nullable=False)\n",
    "        customer_id = Column(String(50), nullable=False)\n",
    "        customer_name = Column(String(), nullable=False)\n",
    "        segment = Column(String(50), nullable=False)\n",
    "        country = Column(String(), nullable=False)\n",
    "        city = Column(String(), nullable=False)\n",
    "        state = Column(String(), nullable=False)\n",
    "        postal_code = Column(Float, nullable=True)\n",
    "        region = Column(String(), nullable=False)\n",
    "        product_id = Column(String(50), nullable=False)\n",
    "        category = Column(String(50), nullable=False)\n",
    "        sub_category = Column(String(50), nullable=False)\n",
    "        product_name = Column(String(), nullable=False)\n",
    "        sales = Column(Float, nullable=False)\n",
    "Base.metadata.create_all(user_engine)\n"
   ]
  },
  {
   "cell_type": "code",
   "execution_count": 69,
   "metadata": {},
   "outputs": [
    {
     "ename": "NameError",
     "evalue": "name 'user_engine' is not defined",
     "output_type": "error",
     "traceback": [
      "\u001b[0;31m---------------------------------------------------------------------------\u001b[0m",
      "\u001b[0;31mNameError\u001b[0m                                 Traceback (most recent call last)",
      "Cell \u001b[0;32mIn[69], line 2\u001b[0m\n\u001b[1;32m      1\u001b[0m \u001b[39m# Check the created tables\u001b[39;00m\n\u001b[0;32m----> 2\u001b[0m inspector \u001b[39m=\u001b[39m inspect(user_engine)\n\u001b[1;32m      4\u001b[0m table_names \u001b[39m=\u001b[39m inspector\u001b[39m.\u001b[39mget_table_names()\n\u001b[1;32m      5\u001b[0m table_names\n",
      "\u001b[0;31mNameError\u001b[0m: name 'user_engine' is not defined"
     ]
    }
   ],
   "source": [
    "# Check the created tables\n",
    "inspector = inspect(user_engine)\n",
    "\n",
    "table_names = inspector.get_table_names()\n",
    "table_names"
   ]
  }
 ],
 "metadata": {
  "kernelspec": {
   "display_name": "Python 3",
   "language": "python",
   "name": "python3"
  },
  "language_info": {
   "codemirror_mode": {
    "name": "ipython",
    "version": 3
   },
   "file_extension": ".py",
   "mimetype": "text/x-python",
   "name": "python",
   "nbconvert_exporter": "python",
   "pygments_lexer": "ipython3",
   "version": "3.10.6"
  },
  "orig_nbformat": 4
 },
 "nbformat": 4,
 "nbformat_minor": 2
}
