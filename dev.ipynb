{
 "cells": [
  {
   "cell_type": "code",
   "execution_count": 5,
   "metadata": {},
   "outputs": [],
   "source": [
    "# Import necessary packages\n",
    "import pandas as pd\n",
    "\n",
    "# Load the data\n",
    "input_csv_file = input('Enter the name of the csv file : ')\n",
    "df = pd.read_csv(input_csv_file)\n",
    "df.columns = df.columns.str.replace(' ', '_')"
   ]
  },
  {
   "cell_type": "code",
   "execution_count": 6,
   "metadata": {},
   "outputs": [
    {
     "data": {
      "text/html": [
       "<div>\n",
       "<style scoped>\n",
       "    .dataframe tbody tr th:only-of-type {\n",
       "        vertical-align: middle;\n",
       "    }\n",
       "\n",
       "    .dataframe tbody tr th {\n",
       "        vertical-align: top;\n",
       "    }\n",
       "\n",
       "    .dataframe thead th {\n",
       "        text-align: right;\n",
       "    }\n",
       "</style>\n",
       "<table border=\"1\" class=\"dataframe\">\n",
       "  <thead>\n",
       "    <tr style=\"text-align: right;\">\n",
       "      <th></th>\n",
       "      <th>Invoice_ID</th>\n",
       "      <th>Branch</th>\n",
       "      <th>City</th>\n",
       "      <th>Customer_type</th>\n",
       "      <th>Gender</th>\n",
       "      <th>Product_line</th>\n",
       "      <th>Unit_price</th>\n",
       "      <th>Quantity</th>\n",
       "      <th>Tax_5%</th>\n",
       "      <th>Total</th>\n",
       "      <th>Date</th>\n",
       "      <th>Time</th>\n",
       "      <th>Payment</th>\n",
       "      <th>cogs</th>\n",
       "      <th>gross_margin_percentage</th>\n",
       "      <th>gross_income</th>\n",
       "      <th>Rating</th>\n",
       "    </tr>\n",
       "  </thead>\n",
       "  <tbody>\n",
       "    <tr>\n",
       "      <th>0</th>\n",
       "      <td>750-67-8428</td>\n",
       "      <td>A</td>\n",
       "      <td>Yangon</td>\n",
       "      <td>Member</td>\n",
       "      <td>Female</td>\n",
       "      <td>Health and beauty</td>\n",
       "      <td>74.69</td>\n",
       "      <td>7</td>\n",
       "      <td>26.1415</td>\n",
       "      <td>548.9715</td>\n",
       "      <td>1/5/2019</td>\n",
       "      <td>13:08</td>\n",
       "      <td>Ewallet</td>\n",
       "      <td>522.83</td>\n",
       "      <td>4.761905</td>\n",
       "      <td>26.1415</td>\n",
       "      <td>9.1</td>\n",
       "    </tr>\n",
       "    <tr>\n",
       "      <th>1</th>\n",
       "      <td>226-31-3081</td>\n",
       "      <td>C</td>\n",
       "      <td>Naypyitaw</td>\n",
       "      <td>Normal</td>\n",
       "      <td>Female</td>\n",
       "      <td>Electronic accessories</td>\n",
       "      <td>15.28</td>\n",
       "      <td>5</td>\n",
       "      <td>3.8200</td>\n",
       "      <td>80.2200</td>\n",
       "      <td>3/8/2019</td>\n",
       "      <td>10:29</td>\n",
       "      <td>Cash</td>\n",
       "      <td>76.40</td>\n",
       "      <td>4.761905</td>\n",
       "      <td>3.8200</td>\n",
       "      <td>9.6</td>\n",
       "    </tr>\n",
       "    <tr>\n",
       "      <th>2</th>\n",
       "      <td>631-41-3108</td>\n",
       "      <td>A</td>\n",
       "      <td>Yangon</td>\n",
       "      <td>Normal</td>\n",
       "      <td>Male</td>\n",
       "      <td>Home and lifestyle</td>\n",
       "      <td>46.33</td>\n",
       "      <td>7</td>\n",
       "      <td>16.2155</td>\n",
       "      <td>340.5255</td>\n",
       "      <td>3/3/2019</td>\n",
       "      <td>13:23</td>\n",
       "      <td>Credit card</td>\n",
       "      <td>324.31</td>\n",
       "      <td>4.761905</td>\n",
       "      <td>16.2155</td>\n",
       "      <td>7.4</td>\n",
       "    </tr>\n",
       "    <tr>\n",
       "      <th>3</th>\n",
       "      <td>123-19-1176</td>\n",
       "      <td>A</td>\n",
       "      <td>Yangon</td>\n",
       "      <td>Member</td>\n",
       "      <td>Male</td>\n",
       "      <td>Health and beauty</td>\n",
       "      <td>58.22</td>\n",
       "      <td>8</td>\n",
       "      <td>23.2880</td>\n",
       "      <td>489.0480</td>\n",
       "      <td>1/27/2019</td>\n",
       "      <td>20:33</td>\n",
       "      <td>Ewallet</td>\n",
       "      <td>465.76</td>\n",
       "      <td>4.761905</td>\n",
       "      <td>23.2880</td>\n",
       "      <td>8.4</td>\n",
       "    </tr>\n",
       "    <tr>\n",
       "      <th>4</th>\n",
       "      <td>373-73-7910</td>\n",
       "      <td>A</td>\n",
       "      <td>Yangon</td>\n",
       "      <td>Normal</td>\n",
       "      <td>Male</td>\n",
       "      <td>Sports and travel</td>\n",
       "      <td>86.31</td>\n",
       "      <td>7</td>\n",
       "      <td>30.2085</td>\n",
       "      <td>634.3785</td>\n",
       "      <td>2/8/2019</td>\n",
       "      <td>10:37</td>\n",
       "      <td>Ewallet</td>\n",
       "      <td>604.17</td>\n",
       "      <td>4.761905</td>\n",
       "      <td>30.2085</td>\n",
       "      <td>5.3</td>\n",
       "    </tr>\n",
       "  </tbody>\n",
       "</table>\n",
       "</div>"
      ],
      "text/plain": [
       "    Invoice_ID Branch       City Customer_type  Gender   \n",
       "0  750-67-8428      A     Yangon        Member  Female  \\\n",
       "1  226-31-3081      C  Naypyitaw        Normal  Female   \n",
       "2  631-41-3108      A     Yangon        Normal    Male   \n",
       "3  123-19-1176      A     Yangon        Member    Male   \n",
       "4  373-73-7910      A     Yangon        Normal    Male   \n",
       "\n",
       "             Product_line  Unit_price  Quantity   Tax_5%     Total       Date   \n",
       "0       Health and beauty       74.69         7  26.1415  548.9715   1/5/2019  \\\n",
       "1  Electronic accessories       15.28         5   3.8200   80.2200   3/8/2019   \n",
       "2      Home and lifestyle       46.33         7  16.2155  340.5255   3/3/2019   \n",
       "3       Health and beauty       58.22         8  23.2880  489.0480  1/27/2019   \n",
       "4       Sports and travel       86.31         7  30.2085  634.3785   2/8/2019   \n",
       "\n",
       "    Time      Payment    cogs  gross_margin_percentage  gross_income  Rating  \n",
       "0  13:08      Ewallet  522.83                 4.761905       26.1415     9.1  \n",
       "1  10:29         Cash   76.40                 4.761905        3.8200     9.6  \n",
       "2  13:23  Credit card  324.31                 4.761905       16.2155     7.4  \n",
       "3  20:33      Ewallet  465.76                 4.761905       23.2880     8.4  \n",
       "4  10:37      Ewallet  604.17                 4.761905       30.2085     5.3  "
      ]
     },
     "execution_count": 6,
     "metadata": {},
     "output_type": "execute_result"
    }
   ],
   "source": [
    "df.head()"
   ]
  },
  {
   "cell_type": "code",
   "execution_count": 7,
   "metadata": {},
   "outputs": [],
   "source": [
    "def is_not_number(value):\n",
    "    try:\n",
    "        float_value = float(value)\n",
    "        return not isinstance(float_value, (int, float))\n",
    "    except ValueError:\n",
    "        return True"
   ]
  },
  {
   "cell_type": "code",
   "execution_count": 8,
   "metadata": {},
   "outputs": [],
   "source": [
    "# Randomly shuffle the rows in the dataframe \n",
    "shuffled_df = df.sample(frac=1, random_state=42).reset_index(drop=True)\n",
    "\n",
    "# Number of lines for json\n",
    "json_percent = (input('Enter the JSON percentage : '))\n",
    "json_percent = 30 if is_not_number(json_percent) else float(json_percent)\n",
    "line_json = int((shuffled_df.shape[0] * json_percent) / 100)\n",
    "\n",
    "# Number of lines for csv\n",
    "csv_percent = (input('Enter the CSV percentage : '))\n",
    "csv_percent = 40 if is_not_number(csv_percent) else float(csv_percent)\n",
    "line_csv = int((shuffled_df.shape[0] * csv_percent) / 100)\n",
    "\n",
    "# Number of lines for database\n",
    "db_percent = (input('Enter the database percentage : '))\n",
    "db_percent = 30 if is_not_number(db_percent) else float(db_percent)\n",
    "line_db = int((shuffled_df.shape[0] * db_percent) / 100)"
   ]
  },
  {
   "cell_type": "markdown",
   "metadata": {},
   "source": [
    "### Json "
   ]
  },
  {
   "cell_type": "code",
   "execution_count": 9,
   "metadata": {},
   "outputs": [],
   "source": [
    "# Take 30% to json\n",
    "json_df = shuffled_df[:line_json].reset_index(drop=True)\n",
    "\n",
    "# Delete the json df from the shuffled\n",
    "shuffled_df.drop(json_df.index, axis='rows', inplace=True)\n",
    "\n",
    "# Create json file\n",
    "json_df.reset_index(drop=True).to_json('json_file.json', orient='records', date_format='iso')"
   ]
  },
  {
   "cell_type": "code",
   "execution_count": 10,
   "metadata": {},
   "outputs": [
    {
     "data": {
      "text/plain": [
       "(700, 17)"
      ]
     },
     "execution_count": 10,
     "metadata": {},
     "output_type": "execute_result"
    }
   ],
   "source": [
    "shuffled_df.shape"
   ]
  },
  {
   "cell_type": "code",
   "execution_count": 11,
   "metadata": {},
   "outputs": [
    {
     "data": {
      "text/plain": [
       "(300, 17)"
      ]
     },
     "execution_count": 11,
     "metadata": {},
     "output_type": "execute_result"
    }
   ],
   "source": [
    "json_df.shape"
   ]
  },
  {
   "cell_type": "markdown",
   "metadata": {},
   "source": [
    "### CSV"
   ]
  },
  {
   "cell_type": "code",
   "execution_count": 12,
   "metadata": {},
   "outputs": [],
   "source": [
    "# 40% for CSV\n",
    "csv_df = shuffled_df[:line_csv]\n",
    "\n",
    "# Delete the csv df to the shuffle\n",
    "shuffled_df.drop(csv_df.index, axis='rows', inplace=True)\n",
    "\n",
    "# Create the csv file\n",
    "csv_df.reset_index(drop=True).to_csv('csv_file.csv', index=False, header=False)"
   ]
  },
  {
   "cell_type": "code",
   "execution_count": 13,
   "metadata": {},
   "outputs": [
    {
     "data": {
      "text/plain": [
       "(300, 17)"
      ]
     },
     "execution_count": 13,
     "metadata": {},
     "output_type": "execute_result"
    }
   ],
   "source": [
    "shuffled_df.shape"
   ]
  },
  {
   "cell_type": "code",
   "execution_count": 14,
   "metadata": {},
   "outputs": [
    {
     "data": {
      "text/plain": [
       "(400, 17)"
      ]
     },
     "execution_count": 14,
     "metadata": {},
     "output_type": "execute_result"
    }
   ],
   "source": [
    "csv_df.shape"
   ]
  },
  {
   "cell_type": "markdown",
   "metadata": {},
   "source": [
    "### Database"
   ]
  },
  {
   "cell_type": "code",
   "execution_count": 15,
   "metadata": {},
   "outputs": [],
   "source": [
    "# 30% for DB\n",
    "db_df = shuffled_df[:line_db]\n",
    "\n",
    "# Delete the csv df to the shuffle\n",
    "shuffled_df.drop(db_df.index, axis='rows', inplace=True)\n",
    "\n",
    "# Reset indexes\n",
    "db_df.reset_index(drop=True, inplace=True)"
   ]
  },
  {
   "cell_type": "code",
   "execution_count": 16,
   "metadata": {},
   "outputs": [],
   "source": [
    "# Import SQL Alchemy\n",
    "from sqlalchemy import create_engine, Column, Integer, String, Text, Boolean, Float, Date, text, inspect, UniqueConstraint, Time\n",
    "from sqlalchemy.orm import sessionmaker, declarative_base\n",
    "\n",
    "# Construct the connection string\n",
    "# driver = 'ODBC+Driver+18+for+SQL+Server'\n",
    "driver = 'ODBC+Driver+17+for+SQL+Server'\n",
    "server_address = 'LIKE-YOUCODE-DA\\SQLEXPRESS'\n",
    "database_name = 'TalendIntegration'\n",
    "username = 'SA' \n",
    "password = 'YourPassword123'\n",
    "\n",
    "# Connection string for master db\n",
    "master_connection_string = f'mssql+pyodbc://{username}:{password}@{server_address}/{database_name}?driver={driver}&Trusted_Connection=yes'\n",
    "\n",
    "# Engine for master\n",
    "master_engine = create_engine(master_connection_string)"
   ]
  },
  {
   "cell_type": "code",
   "execution_count": 17,
   "metadata": {},
   "outputs": [],
   "source": [
    "# Create class name\n",
    "def class_name(filename):\n",
    "    filename = str.replace(filename, '.csv', '')\n",
    "    filename = str.replace(filename, '_', ' ')\n",
    "    filename = str.replace(filename, '-', ' ')\n",
    "\n",
    "    filename = str.title(filename)\n",
    "    filename = str.replace(filename, ' ', '')\n",
    "    return filename"
   ]
  },
  {
   "cell_type": "code",
   "execution_count": 19,
   "metadata": {},
   "outputs": [
    {
     "data": {
      "text/plain": [
       "Index(['Invoice_ID', 'Branch', 'City', 'Customer_type', 'Gender',\n",
       "       'Product_line', 'Unit_price', 'Quantity', 'Tax_5%', 'Total', 'Date',\n",
       "       'Time', 'Payment', 'cogs', 'gross_margin_percentage', 'gross_income',\n",
       "       'Rating'],\n",
       "      dtype='object')"
      ]
     },
     "execution_count": 19,
     "metadata": {},
     "output_type": "execute_result"
    }
   ],
   "source": [
    "db_df.columns"
   ]
  },
  {
   "cell_type": "code",
   "execution_count": null,
   "metadata": {},
   "outputs": [],
   "source": [
    "# invoice_id = Column(String(20), nullable=False)\n",
    "    # branch = Column(String(5), nullable=False)\n",
    "    # city = Column(String(40), nullable=False)\n",
    "    # customer_type = Column(String(20), nullable=False)\n",
    "    # gender = Column(String(20), nullable=False)\n",
    "    # product_line = Column(String(255), nullable=False)\n",
    "    # unit_price = Column(Float, nullable=False)\n",
    "    # quantity = Column(Integer, nullable=False)\n",
    "    # tax_percent = Column(Float, nullable=False)\n",
    "    # total = Column(Float, nullable=False)\n",
    "    # date = Column(Date, nullable=False)\n",
    "    # time = Column(Time, nullable=False)\n",
    "    # payment = Column(String(20), nullable=False)\n",
    "    # cogs = Column(Float, nullable=False)\n",
    "    # gross_margin_percentage = Column(Float, nullable=False)\n",
    "    # gross_income = Column(Float, nullable=False)\n",
    "    # rating = Column(Float, nullable=False)"
   ]
  },
  {
   "cell_type": "code",
   "execution_count": 20,
   "metadata": {},
   "outputs": [],
   "source": [
    "# Table creation\n",
    "import numpy as np\n",
    "Base = declarative_base()\n",
    "\n",
    "# Define a dictionary to map DataFrame data types to SQLAlchemy column types\n",
    "data_type_mapping = {\n",
    "    str: String,\n",
    "    np.float64: Float,\n",
    "    np.int64: Integer\n",
    "}\n",
    "\n",
    "class Sells(Base):\n",
    "    __tablename__ ='sells'\n",
    "\n",
    "    # Column creation\n",
    "    id = Column(Integer, primary_key=True, autoincrement=True)\n",
    "    \n",
    "for column_name in db_df.columns:\n",
    "    column_data_type = data_type_mapping.get(type(db_df[column_name][0]))\n",
    "    \n",
    "    if column_data_type:\n",
    "        column_definition = Column(column_data_type, nullable=False)\n",
    "        setattr(Sells, column_name, column_definition)\n",
    "\n",
    "Base.metadata.create_all(master_engine)"
   ]
  },
  {
   "cell_type": "code",
   "execution_count": 21,
   "metadata": {},
   "outputs": [
    {
     "data": {
      "text/plain": [
       "['sells']"
      ]
     },
     "execution_count": 21,
     "metadata": {},
     "output_type": "execute_result"
    }
   ],
   "source": [
    "inspector = inspect(master_engine)\n",
    "inspector.get_table_names()"
   ]
  },
  {
   "cell_type": "code",
   "execution_count": 22,
   "metadata": {},
   "outputs": [],
   "source": [
    "# Create a session\n",
    "Session = sessionmaker(bind=master_engine)\n",
    "session = Session()\n",
    "\n",
    "for _, row in db_df.iterrows():\n",
    "    new_entry = Sells() \n",
    "\n",
    "    # Populate the instance with data from the DataFrame row\n",
    "    for column_name in db_df.columns:\n",
    "        if hasattr(new_entry, column_name):\n",
    "            setattr(new_entry, column_name, row[column_name])\n",
    "\n",
    "    # Add the new entry to the session and commit\n",
    "    session.add(new_entry)\n",
    "    session.commit()\n",
    "\n",
    "# Close the session\n",
    "session.close()"
   ]
  }
 ],
 "metadata": {
  "kernelspec": {
   "display_name": "Python 3",
   "language": "python",
   "name": "python3"
  },
  "language_info": {
   "codemirror_mode": {
    "name": "ipython",
    "version": 3
   },
   "file_extension": ".py",
   "mimetype": "text/x-python",
   "name": "python",
   "nbconvert_exporter": "python",
   "pygments_lexer": "ipython3",
   "version": "3.11.3"
  },
  "orig_nbformat": 4
 },
 "nbformat": 4,
 "nbformat_minor": 2
}
